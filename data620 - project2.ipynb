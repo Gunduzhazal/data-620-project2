{
 "cells": [
  {
   "cell_type": "markdown",
   "id": "23dfa1d2",
   "metadata": {},
   "source": [
    "# Data 620 - Project 2"
   ]
  },
  {
   "cell_type": "markdown",
   "id": "b3839e4d",
   "metadata": {},
   "source": [
    "1.Identify a large 2-node network dataset—you can start with a dataset in a repository. \n",
    "Your data should meet the criteria that it consists of ties between and not within two (or more) distinct groups.\n",
    "\n",
    "2.Reduce the size of the network using a method such as the island method described in chapter 4 of social network analysis.\n",
    "\n",
    "3.What can you infer about each of the distinct groups?"
   ]
  },
  {
   "cell_type": "markdown",
   "id": "f4619baa",
   "metadata": {},
   "source": [
    "The Facebook-like Forum Network was attained from the \"https://toreopsahl.com/datasets/#online_forum_network\"; \n",
    "however, the focus in this network is not on the private messages exchanged among users, but on users’ activity \n",
    "in the forum. The forum represents an interesting two-mode network among 899 users and 522 topics in that a weight \n",
    "can be assigned to the ties based on the number of messages or characters that a user posted to a topic. "
   ]
  },
  {
   "cell_type": "code",
   "execution_count": 71,
   "id": "8d2e7941",
   "metadata": {},
   "outputs": [],
   "source": [
    "import networkx as net\n",
    "import csv\n",
    "import pandas as pd\n",
    "import requests\n",
    "import io\n",
    "import math\n",
    "import numpy as np\n",
    "import networkx.algorithms.bipartite as bi\n",
    "import matplotlib.pyplot as plt\n",
    "%matplotlib inline\n",
    "\n",
    "request = requests.get(\"http://localhost:8889/edit/project2_data.csv\").content\n",
    "data = pd.read_csv(\"project2_data.csv\")"
   ]
  },
  {
   "cell_type": "code",
   "execution_count": 95,
   "id": "8ab31cce",
   "metadata": {},
   "outputs": [
    {
     "data": {
      "text/html": [
       "<div>\n",
       "<style scoped>\n",
       "    .dataframe tbody tr th:only-of-type {\n",
       "        vertical-align: middle;\n",
       "    }\n",
       "\n",
       "    .dataframe tbody tr th {\n",
       "        vertical-align: top;\n",
       "    }\n",
       "\n",
       "    .dataframe thead th {\n",
       "        text-align: right;\n",
       "    }\n",
       "</style>\n",
       "<table border=\"1\" class=\"dataframe\">\n",
       "  <thead>\n",
       "    <tr style=\"text-align: right;\">\n",
       "      <th></th>\n",
       "      <th>user</th>\n",
       "      <th>topic</th>\n",
       "      <th>weight</th>\n",
       "    </tr>\n",
       "  </thead>\n",
       "  <tbody>\n",
       "    <tr>\n",
       "      <th>0</th>\n",
       "      <td>1</td>\n",
       "      <td>1</td>\n",
       "      <td>1</td>\n",
       "    </tr>\n",
       "    <tr>\n",
       "      <th>1</th>\n",
       "      <td>1</td>\n",
       "      <td>39</td>\n",
       "      <td>9</td>\n",
       "    </tr>\n",
       "    <tr>\n",
       "      <th>2</th>\n",
       "      <td>1</td>\n",
       "      <td>102</td>\n",
       "      <td>2</td>\n",
       "    </tr>\n",
       "    <tr>\n",
       "      <th>3</th>\n",
       "      <td>1</td>\n",
       "      <td>154</td>\n",
       "      <td>1</td>\n",
       "    </tr>\n",
       "    <tr>\n",
       "      <th>4</th>\n",
       "      <td>1</td>\n",
       "      <td>357</td>\n",
       "      <td>5</td>\n",
       "    </tr>\n",
       "    <tr>\n",
       "      <th>5</th>\n",
       "      <td>1</td>\n",
       "      <td>459</td>\n",
       "      <td>1</td>\n",
       "    </tr>\n",
       "    <tr>\n",
       "      <th>6</th>\n",
       "      <td>2</td>\n",
       "      <td>14</td>\n",
       "      <td>5</td>\n",
       "    </tr>\n",
       "    <tr>\n",
       "      <th>7</th>\n",
       "      <td>2</td>\n",
       "      <td>45</td>\n",
       "      <td>1</td>\n",
       "    </tr>\n",
       "    <tr>\n",
       "      <th>8</th>\n",
       "      <td>2</td>\n",
       "      <td>70</td>\n",
       "      <td>1</td>\n",
       "    </tr>\n",
       "    <tr>\n",
       "      <th>9</th>\n",
       "      <td>2</td>\n",
       "      <td>81</td>\n",
       "      <td>2</td>\n",
       "    </tr>\n",
       "    <tr>\n",
       "      <th>10</th>\n",
       "      <td>2</td>\n",
       "      <td>83</td>\n",
       "      <td>1</td>\n",
       "    </tr>\n",
       "  </tbody>\n",
       "</table>\n",
       "</div>"
      ],
      "text/plain": [
       "    user  topic  weight\n",
       "0      1      1       1\n",
       "1      1     39       9\n",
       "2      1    102       2\n",
       "3      1    154       1\n",
       "4      1    357       5\n",
       "5      1    459       1\n",
       "6      2     14       5\n",
       "7      2     45       1\n",
       "8      2     70       1\n",
       "9      2     81       2\n",
       "10     2     83       1"
      ]
     },
     "execution_count": 95,
     "metadata": {},
     "output_type": "execute_result"
    }
   ],
   "source": [
    "data.head(11)"
   ]
  },
  {
   "cell_type": "code",
   "execution_count": 96,
   "id": "b94abb08",
   "metadata": {},
   "outputs": [
    {
     "data": {
      "text/plain": [
       "10203"
      ]
     },
     "execution_count": 96,
     "metadata": {},
     "output_type": "execute_result"
    }
   ],
   "source": [
    "len(request)"
   ]
  },
  {
   "cell_type": "code",
   "execution_count": 97,
   "id": "8ff58f15",
   "metadata": {},
   "outputs": [],
   "source": [
    "fb_csv = csv.reader(open(\"project2_data.csv\"))\n",
    "users = []\n",
    "topics = []\n",
    "fb_g = net.Graph()\n",
    "\n",
    "for row in fb_csv:\n",
    "    if row[0] not in users:\n",
    "        users.append(row[0])\n",
    "    if row[1] not in topics:\n",
    "        topics.append(row[1])\n",
    "    fb_g.add_edge(row[0], row[1], weight = row[2])"
   ]
  },
  {
   "cell_type": "code",
   "execution_count": 105,
   "id": "85f7ebe7",
   "metadata": {},
   "outputs": [
    {
     "data": {
      "image/png": "[encoded data removed]",
      "text/plain": [
       "<Figure size 792x792 with 1 Axes>"
      ]
     },
     "metadata": {
      "needs_background": "light"
     },
     "output_type": "display_data"
    }
   ],
   "source": [
    "plt.figure(figsize=(11,11))\n",
    "user_net = bi.weighted_projected_graph(fb_g, users, ratio=False)\n",
    "weights = [math.log(edata['weight'])for f,t,edata in user_net.edges(data=True)]\n",
    "\n",
    "plt.legend([\"user_net\"])\n",
    "plt.show()"
   ]
  },
  {
   "cell_type": "code",
   "execution_count": 106,
   "id": "0e76f51b",
   "metadata": {},
   "outputs": [
    {
     "data": {
      "text/plain": [
       "900"
      ]
     },
     "execution_count": 106,
     "metadata": {},
     "output_type": "execute_result"
    }
   ],
   "source": [
    "len(user_net)"
   ]
  },
  {
   "cell_type": "code",
   "execution_count": 114,
   "id": "b38cb8cb",
   "metadata": {},
   "outputs": [
    {
     "data": {
      "image/png": "[encoded data removed]",
      "text/plain": [
       "<Figure size 792x792 with 1 Axes>"
      ]
     },
     "metadata": {
      "needs_background": "light"
     },
     "output_type": "display_data"
    }
   ],
   "source": [
    "plt.figure(figsize=(11,11))\n",
    "weights = [math.log(edata['weight'])for f,t,edata in topic_net.edges(data=True)]\n",
    "\n",
    "plt.legend([\"topic_net\"])\n",
    "plt.show()"
   ]
  },
  {
   "cell_type": "code",
   "execution_count": 115,
   "id": "3f89df35",
   "metadata": {},
   "outputs": [
    {
     "data": {
      "text/plain": [
       "900"
      ]
     },
     "execution_count": 115,
     "metadata": {},
     "output_type": "execute_result"
    }
   ],
   "source": [
    "len(topic_net)"
   ]
  },
  {
   "cell_type": "code",
   "execution_count": 116,
   "id": "c57be456",
   "metadata": {},
   "outputs": [],
   "source": [
    "def trim_edges(fb_g, weight=1):\n",
    "    fb_g2 = net.Graph()\n",
    "    for f, to, edata in fb_g.edges(data=True):\n",
    "        if edata['weight']> weight:\n",
    "            fb_g2.add_edge(f, to, edata)\n",
    "    return fb_g2"
   ]
  },
  {
   "cell_type": "code",
   "execution_count": 117,
   "id": "6cc29438",
   "metadata": {},
   "outputs": [
    {
     "data": {
      "text/plain": [
       "[<matplotlib.lines.Line2D at 0x7fb97e66dbe0>]"
      ]
     },
     "execution_count": 117,
     "metadata": {},
     "output_type": "execute_result"
    },
    {
     "data": {
      "image/png": "[encoded data removed]",
      "text/plain": [
       "<Figure size 432x288 with 1 Axes>"
      ]
     },
     "metadata": {
      "needs_background": "light"
     },
     "output_type": "display_data"
    }
   ],
   "source": [
    "plt.plot(weights)"
   ]
  },
  {
   "cell_type": "markdown",
   "id": "e8e16187",
   "metadata": {},
   "source": [
    "# Conclusion"
   ]
  },
  {
   "cell_type": "markdown",
   "id": "c791ddb7",
   "metadata": {},
   "source": [
    "It is not clear why the Ada method does not produce the expected results. \n",
    "After trimming the data, each network was determined to fit together as an island. \n",
    "Therefore, measures of centrality are calculated to identify the central nodes in each network. \n",
    "And interestingly, although each network is categorized as having an island, \n",
    "both users and threads seem to have different communities; this may mean that, despite their diversity, \n",
    "the knots in general are equally well tied among themselves."
   ]
  },
  {
   "cell_type": "code",
   "execution_count": null,
   "id": "2f723519",
   "metadata": {},
   "outputs": [],
   "source": []
  }
 ],
 "metadata": {
  "kernelspec": {
   "display_name": "Python 3",
   "language": "python",
   "name": "python3"
  },
  "language_info": {
   "codemirror_mode": {
    "name": "ipython",
    "version": 3
   },
   "file_extension": ".py",
   "mimetype": "text/x-python",
   "name": "python",
   "nbconvert_exporter": "python",
   "pygments_lexer": "ipython3",
   "version": "3.8.8"
  }
 },
 "nbformat": 4,
 "nbformat_minor": 5
}
